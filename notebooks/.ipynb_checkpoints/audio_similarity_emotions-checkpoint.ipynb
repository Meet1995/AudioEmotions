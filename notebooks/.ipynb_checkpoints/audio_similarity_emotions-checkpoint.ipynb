{
 "cells": [
  {
   "cell_type": "markdown",
   "metadata": {},
   "source": [
    "# Libraries"
   ]
  },
  {
   "cell_type": "code",
   "execution_count": 1,
   "metadata": {},
   "outputs": [],
   "source": [
    "import os\n",
    "import sys\n",
    "\n",
    "cwd = os.getcwd()\n",
    "root_path = r\"/\".join(cwd.split('\\\\')[:-1]) + \"/codes\"\n",
    "sys.path.append(root_path)\n",
    "\n",
    "from utils import Recorder\n",
    "from audioemotions import AudioSimilarityEmotions "
   ]
  },
  {
   "cell_type": "markdown",
   "metadata": {},
   "source": [
    "# Generating Similarity Database from Dataset"
   ]
  },
  {
   "cell_type": "code",
   "execution_count": null,
   "metadata": {},
   "outputs": [],
   "source": [
    "data_path = r'../dataset/RAVDESS'\n",
    "path_lst = glob.glob(data_path+'\\Actor_*\\*.wav')\n",
    "\n",
    "emotion_map={\n",
    "  '01':'neutral',\n",
    "  '02':'calm',\n",
    "  '03':'happy',\n",
    "  '04':'sad',\n",
    "  '05':'angry',\n",
    "  '06':'fearful',\n",
    "  '07':'disgust',\n",
    "  '08':'surprised'\n",
    "}\n",
    "\n",
    "emotion_map_clubbed={\n",
    "  '01':'relaxed',\n",
    "  '02':'relaxed',\n",
    "  '03':'happy',\n",
    "  '04':'sad',\n",
    "  '05':'angry',\n",
    "  '06':'sad',\n",
    "  '07':'excited',\n",
    "  '08':'excited'\n",
    "}"
   ]
  },
  {
   "cell_type": "code",
   "execution_count": null,
   "metadata": {},
   "outputs": [],
   "source": [
    "%time df = AudioSimilarityEmotions.generate_audio_database(path_lst, 2, emotions_map_clubbed, sample_rate=16000)"
   ]
  },
  {
   "cell_type": "markdown",
   "metadata": {},
   "source": [
    "# Loading generated Database for making predictions"
   ]
  },
  {
   "cell_type": "code",
   "execution_count": 3,
   "metadata": {},
   "outputs": [],
   "source": [
    "audio_emotions = AudioSimilarityEmotions(\"../models/AudioDatabase.pkl\", database_sample_rate=16000)"
   ]
  },
  {
   "cell_type": "markdown",
   "metadata": {},
   "source": [
    "# Inferencing in real time"
   ]
  },
  {
   "cell_type": "code",
   "execution_count": 5,
   "metadata": {},
   "outputs": [],
   "source": [
    "sample_rate = 24000\n",
    "recorder = Recorder(sr=sample_rate)"
   ]
  },
  {
   "cell_type": "code",
   "execution_count": 9,
   "metadata": {},
   "outputs": [
    {
     "name": "stdout",
     "output_type": "stream",
     "text": [
      "Recording Starts\n",
      "Recording Stops\n",
      "******************************************\n",
      "{'neutral': 0.774583528705946, 'calm': 0.7932418490220127, 'happy': 0.04479493061939897, 'sad': 0.033156693148476565, 'angry': 0.05079670974080442, 'fearful': 0.0377137368892844, 'disgust': 0.08923344273167158, 'surprised': 0.058121971868679546}\n"
     ]
    }
   ],
   "source": [
    "arr, _ = recorder.record()\n",
    "print(\"******************************************\")\n",
    "print(audio_emotions(arr, sample_rate))    "
   ]
  },
  {
   "cell_type": "code",
   "execution_count": null,
   "metadata": {},
   "outputs": [],
   "source": []
  }
 ],
 "metadata": {
  "kernelspec": {
   "display_name": "Python 3",
   "language": "python",
   "name": "python3"
  },
  "language_info": {
   "codemirror_mode": {
    "name": "ipython",
    "version": 3
   },
   "file_extension": ".py",
   "mimetype": "text/x-python",
   "name": "python",
   "nbconvert_exporter": "python",
   "pygments_lexer": "ipython3",
   "version": "3.7.7"
  },
  "toc": {
   "base_numbering": 1,
   "nav_menu": {},
   "number_sections": true,
   "sideBar": true,
   "skip_h1_title": false,
   "title_cell": "Table of Contents",
   "title_sidebar": "Contents",
   "toc_cell": false,
   "toc_position": {},
   "toc_section_display": true,
   "toc_window_display": false
  }
 },
 "nbformat": 4,
 "nbformat_minor": 4
}
